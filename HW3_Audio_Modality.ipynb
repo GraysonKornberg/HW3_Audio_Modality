{
 "cells": [
  {
   "cell_type": "code",
   "execution_count": 3,
   "metadata": {},
   "outputs": [],
   "source": [
    "import os\n",
    "import numpy as np"
   ]
  },
  {
   "cell_type": "code",
   "execution_count": 7,
   "metadata": {},
   "outputs": [
    {
     "ename": "FileNotFoundError",
     "evalue": "[WinError 3] The system cannot find the path specified: 'data/{folder}'",
     "output_type": "error",
     "traceback": [
      "\u001b[1;31m---------------------------------------------------------------------------\u001b[0m",
      "\u001b[1;31mFileNotFoundError\u001b[0m                         Traceback (most recent call last)",
      "Cell \u001b[1;32mIn[7], line 7\u001b[0m\n\u001b[0;32m      5\u001b[0m data[\u001b[39m'\u001b[39m\u001b[39msad\u001b[39m\u001b[39m'\u001b[39m] \u001b[39m=\u001b[39m np\u001b[39m.\u001b[39marray([])\n\u001b[0;32m      6\u001b[0m \u001b[39mfor\u001b[39;00m folder \u001b[39min\u001b[39;00m os\u001b[39m.\u001b[39mlistdir(\u001b[39m'\u001b[39m\u001b[39mdata\u001b[39m\u001b[39m'\u001b[39m):\n\u001b[1;32m----> 7\u001b[0m     \u001b[39mfor\u001b[39;00m file \u001b[39min\u001b[39;00m os\u001b[39m.\u001b[39;49mlistdir(\u001b[39m'\u001b[39;49m\u001b[39mdata/\u001b[39;49m\u001b[39m{folder}\u001b[39;49;00m\u001b[39m'\u001b[39;49m):\n\u001b[0;32m      8\u001b[0m         data[folder] \u001b[39m=\u001b[39m np\u001b[39m.\u001b[39mappend(data[folder], \u001b[39m'\u001b[39m\u001b[39mdata/\u001b[39m\u001b[39m{folder}\u001b[39;00m\u001b[39m/\u001b[39m\u001b[39m{file}\u001b[39;00m\u001b[39m'\u001b[39m)\n",
      "\u001b[1;31mFileNotFoundError\u001b[0m: [WinError 3] The system cannot find the path specified: 'data/{folder}'"
     ]
    }
   ],
   "source": [
    "data = {}\n",
    "data['angry'] = np.array([])\n",
    "data['fear'] = np.array([])\n",
    "data['happy'] = np.array([])\n",
    "data['sad'] = np.array([])\n",
    "for folder in os.listdir('data'):\n",
    "    for file in os.listdir('data/{folder}'):\n",
    "        data[folder] = np.append(data[folder], 'data/{folder}/{file}')"
   ]
  },
  {
   "cell_type": "code",
   "execution_count": 8,
   "metadata": {},
   "outputs": [
    {
     "data": {
      "text/plain": [
       "{'angry': array([], dtype=float64),\n",
       " 'fear': array([], dtype=float64),\n",
       " 'happy': array([], dtype=float64),\n",
       " 'sad': array([], dtype=float64)}"
      ]
     },
     "execution_count": 8,
     "metadata": {},
     "output_type": "execute_result"
    }
   ],
   "source": [
    "data"
   ]
  },
  {
   "attachments": {},
   "cell_type": "markdown",
   "metadata": {},
   "source": [
    "Step 1: Split the dataset into training and testing sets"
   ]
  }
 ],
 "metadata": {
  "kernelspec": {
   "display_name": ".venv",
   "language": "python",
   "name": "python3"
  },
  "language_info": {
   "codemirror_mode": {
    "name": "ipython",
    "version": 3
   },
   "file_extension": ".py",
   "mimetype": "text/x-python",
   "name": "python",
   "nbconvert_exporter": "python",
   "pygments_lexer": "ipython3",
   "version": "3.10.11"
  },
  "orig_nbformat": 4
 },
 "nbformat": 4,
 "nbformat_minor": 2
}
